{
 "cells": [
  {
   "cell_type": "code",
   "execution_count": 1,
   "metadata": {},
   "outputs": [],
   "source": [
    "from job_application_interface import JobApplicationApp"
   ]
  },
  {
   "cell_type": "code",
   "execution_count": 2,
   "metadata": {},
   "outputs": [],
   "source": [
    "app = JobApplicationApp()"
   ]
  },
  {
   "cell_type": "code",
   "execution_count": null,
   "metadata": {},
   "outputs": [],
   "source": [
    "app.runApp()"
   ]
  },
  {
   "cell_type": "code",
   "execution_count": null,
   "metadata": {},
   "outputs": [],
   "source": []
  },
  {
   "cell_type": "code",
   "execution_count": null,
   "metadata": {},
   "outputs": [],
   "source": []
  },
  {
   "cell_type": "code",
   "execution_count": null,
   "metadata": {},
   "outputs": [],
   "source": [
    "from tkinter import *\n",
    "\n",
    "#***********************************\n",
    "#Creates an instance of the class tkinter.Tk.\n",
    "#This creates what is called the \"root\" window. By conventon,\n",
    "#the root window in Tkinter is usually called \"root\",\n",
    "#but you are free to call it by any other name.\n",
    "\n",
    "root = Tk()\n",
    "root.title('how to get text from textbox')\n",
    "\n",
    "\n",
    "#**********************************\n",
    "mystring = StringVar()\n",
    "\n",
    "####define the function that the signup button will do\n",
    "def getvalue():\n",
    "    print(mystring.get())\n",
    "#*************************************\n",
    "\n",
    "Label(root, text=\"Text to get\").grid(row=0, sticky=W)  #label\n",
    "Entry(root, textvariable = mystring).grid(row=0, column=1, sticky=E) #entry textbox\n",
    "\n",
    "WSignUp = Button(root, text=\"print text\", command=getvalue).grid(row=3, column=0, sticky=W) #button"
   ]
  },
  {
   "cell_type": "code",
   "execution_count": null,
   "metadata": {},
   "outputs": [],
   "source": [
    "root.mainloop()"
   ]
  },
  {
   "cell_type": "code",
   "execution_count": null,
   "metadata": {},
   "outputs": [],
   "source": [
    "my_file = \"C:\\Users\\Cagri\\Google Drive\\applications_.csv\""
   ]
  }
 ],
 "metadata": {
  "kernelspec": {
   "display_name": "Python 3",
   "language": "python",
   "name": "python3"
  },
  "language_info": {
   "codemirror_mode": {
    "name": "ipython",
    "version": 3
   },
   "file_extension": ".py",
   "mimetype": "text/x-python",
   "name": "python",
   "nbconvert_exporter": "python",
   "pygments_lexer": "ipython3",
   "version": "3.7.3"
  }
 },
 "nbformat": 4,
 "nbformat_minor": 2
}
